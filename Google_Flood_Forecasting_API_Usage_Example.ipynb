{
  "nbformat": 4,
  "nbformat_minor": 0,
  "metadata": {
    "colab": {
      "provenance": [],
      "include_colab_link": true
    },
    "kernelspec": {
      "name": "python3",
      "display_name": "Python 3"
    },
    "language_info": {
      "name": "python"
    }
  },
  "cells": [
    {
      "cell_type": "markdown",
      "metadata": {
        "id": "view-in-github",
        "colab_type": "text"
      },
      "source": [
        "<a href=\"https://colab.research.google.com/github/arpita0911patel/Building-A-Community/blob/main/Google_Flood_Forecasting_API_Usage_Example.ipynb\" target=\"_parent\"><img src=\"https://colab.research.google.com/assets/colab-badge.svg\" alt=\"Open In Colab\"/></a>"
      ]
    },
    {
      "cell_type": "markdown",
      "source": [
        "# Flood Forecasting API\n",
        "\n",
        "Official documentations page https://developers.google.com/flood-forecasting\n",
        "\n",
        "The Flood Forecasting API provides an interface to access real time riverine flood forecasts, which is also available on the [Flood Hub](https://g.co/floodhub).\n",
        "\n",
        "For historical data, refer to our publicly available datasets:\n",
        "\n",
        "*   [Inundation History dataset](https://console.cloud.google.com/storage/browser/flood-forecasting/inundation_history) which contains information on water occurancy around the world (1999 - 2020)\n",
        "*   [Google Runoff Reanalysis & Reforecast dataset (GRRR)](https://colab.research.google.com/drive/1FnXXSEQqU1TJhMPiNeWUTr9LnbJwZzMm?usp=sharing#scrollTo=UTbokLLWp_9o) global river discharge estimates (1980-2023)\n",
        "\n",
        "\n",
        "For more details about the research and publications underlying the datasets, visit our [website](https://sites.research.google/gr/floodforecasting/). The data exposed by this API is under the [CC BY 4.0](https://creativecommons.org/licenses/by/4.0/) license and offered at no charge."
      ],
      "metadata": {
        "id": "omVd-Y7OJePs"
      }
    },
    {
      "cell_type": "markdown",
      "source": [
        "# API access\n",
        "To get started, fill out [the waitlist form](https://docs.google.com/forms/d/e/1FAIpQLSfcKhe3CHsncM-_NQ66zLheEfXKnNbDPBtuIT7BSYCqYkmOaA/viewform) to join the waiting list. Once approved, we'll send you an email. If you've already received your approval email, reply to it with your **Google Cloud Project ID** (more details below).\n",
        "\n",
        "The Flood Forecasting API is public and offered at no charge. Accessing the Flood Forecasting API requires an API key and enabling the Flood Forecasting API.\n",
        "\n",
        "Once you have an API key and have enabled the Flood Forecasting API, you can verify API access by running this colab notebook.\n",
        "\n"
      ],
      "metadata": {
        "id": "m1rWO_J1Kh83"
      }
    },
    {
      "cell_type": "markdown",
      "source": [
        "## API keys\n",
        "If you use Google Cloud or other Google Developer services, you can use those existing API keys or make a new one.\n",
        "If you don't have any Google API keys, you will need to:\n",
        "\n",
        "*   [Create a Google Cloud Account](https://cloud.google.com/resource-manager/docs/creating-managing-projects)\n",
        "*   [Create an API key](https://support.google.com/googleapi/answer/6158862)"
      ],
      "metadata": {
        "id": "tCRvQ6CTMWM_"
      }
    },
    {
      "cell_type": "markdown",
      "source": [
        "## Enable Flood Forecasting API\n",
        "To enable the Flood Forecasting API, navigate to the [Flood Forecasting API page](https://console.cloud.google.com/apis/library/floodforecasting.googleapis.com) and click the `Enable` button.\n",
        "\n",
        "If you cannot access this page, it likely means you have not yet been added as a Service Consumer. First, please verify that you are logged in with the correct email address you provided to us. If you are using the correct email address and still lack access, please contact floods-api-pilot@google.com for assistance.\n",
        "\n",
        "For more general information about enabling APIs, please see this [guide](https://support.google.com/googleapi/answer/6158841)."
      ],
      "metadata": {
        "id": "i1zkLdLQMYoc"
      }
    },
    {
      "cell_type": "markdown",
      "source": [
        "## Add your key to Colab Secrets\n",
        "\n",
        "Add your API key to the Colab Secrets manager to securely store it.\n",
        "\n",
        "1. Open your Google Colab notebook and click on the 🔑 **Secrets** tab in the left panel.\n",
        "   \n",
        "   <img src=\"https://storage.googleapis.com/generativeai-downloads/images/secrets.jpg\" alt=\"The Secrets tab is found on the left panel.\" width=50%>\n",
        "\n",
        "2. Create a new secret with the name `FLOODS_API_KEY`.\n",
        "3. Copy/paste your API key into the `Value` input box of `FLOODS_API_KEY`.\n",
        "4. Toggle the button on the left to allow notebook access to the secret.\n",
        "\n"
      ],
      "metadata": {
        "id": "M8zMQgNPLX4P"
      }
    },
    {
      "cell_type": "markdown",
      "source": [
        "# Getting Started\n",
        "\n",
        "Run the following cells for the imports, reading the API key and setting the country code we'll use for the demo."
      ],
      "metadata": {
        "id": "C2S0teZwMgNY"
      }
    },
    {
      "cell_type": "code",
      "execution_count": null,
      "metadata": {
        "id": "oZNeHpamQcQE"
      },
      "outputs": [],
      "source": [
        "import geopandas as gpd\n",
        "from shapely import geometry\n",
        "import requests\n",
        "import datetime\n",
        "import pprint\n",
        "import matplotlib.pyplot as plt\n",
        "from google.colab import userdata\n",
        "from tqdm import tqdm\n",
        "import json"
      ]
    },
    {
      "cell_type": "code",
      "source": [
        "KEY = userdata.get('FLOODS_API_KEY')"
      ],
      "metadata": {
        "id": "NDYpurAGQcQE"
      },
      "execution_count": null,
      "outputs": []
    },
    {
      "cell_type": "code",
      "source": [
        "region_code = 'US'\n",
        "iso_a3_country_code = 'USA'\n",
        "page_size = 10000"
      ],
      "metadata": {
        "id": "Xi5krqRcQcQE"
      },
      "execution_count": null,
      "outputs": []
    },
    {
      "cell_type": "markdown",
      "source": [
        "# Flood Status API\n",
        "\n",
        "[Doc page](https://developers.google.com/flood-forecasting/rest/v1/floodStatus)\n",
        "\n",
        "This API exposes most of the data available on the http://g.co/floodhub\n",
        "\n",
        "Please reach out if you're missing any data or have some other feature requests."
      ],
      "metadata": {
        "id": "w7Y9mgEjjAJK"
      }
    },
    {
      "cell_type": "markdown",
      "source": [
        "## Find Flood Status for Region"
      ],
      "metadata": {
        "id": "KRMBWdCwQcQE"
      }
    },
    {
      "cell_type": "code",
      "source": [
        "flood_statuses = []\n",
        "request = {\n",
        "    'regionCode': region_code,\n",
        "    'pageSize': page_size,\n",
        "    'includeNonQualityVerified': False,  # Set to True to include low-confidance gauges.\n",
        "}\n",
        "\n",
        "with tqdm() as pbar:  # Init progress bar\n",
        "  while True:\n",
        "    region_flood_statuses_response = requests.post(\n",
        "        f'https://floodforecasting.googleapis.com/v1/floodStatus:searchLatestFloodStatusByArea?key={KEY}',\n",
        "        json=request\n",
        "    ).json()\n",
        "    if 'error' in region_flood_statuses_response:\n",
        "      print(region_flood_statuses_response)\n",
        "      break\n",
        "    new_floods_status = region_flood_statuses_response.get('floodStatuses', [])\n",
        "    pbar.update(len(new_floods_status))  # Update progress bar\n",
        "    flood_statuses.extend(new_floods_status)\n",
        "    nextPageToken = region_flood_statuses_response.get('nextPageToken')\n",
        "    if not nextPageToken:\n",
        "      break\n",
        "    request['pageToken'] = nextPageToken\n",
        "\n",
        "print()  # Break line\n",
        "if flood_statuses:\n",
        "  print(json.dumps(flood_statuses[0], indent=4))"
      ],
      "metadata": {
        "outputId": "aba70fa5-d396-4d0e-91aa-4b25d91e6821",
        "colab": {
          "base_uri": "https://localhost:8080/"
        },
        "id": "hVbN4ti3QcQE"
      },
      "execution_count": null,
      "outputs": [
        {
          "output_type": "stream",
          "name": "stderr",
          "text": [
            "1234it [00:03, 346.36it/s]"
          ]
        },
        {
          "output_type": "stream",
          "name": "stdout",
          "text": [
            "\n",
            "{'gaugeId': 'hybas_7120624340', 'issuedTime': '2025-10-22T06:48:26.389635Z', 'forecastTimeRange': {'start': '2025-10-26T00:00:00Z', 'end': '2025-10-27T00:00:00Z'}, 'forecastTrend': 'NO_CHANGE', 'severity': 'NO_FLOODING', 'source': 'HYBAS', 'gaugeLocation': {'latitude': 36.53958333333191, 'longitude': -105.7062500000012}, 'qualityVerified': True}\n"
          ]
        },
        {
          "output_type": "stream",
          "name": "stderr",
          "text": [
            "\n"
          ]
        }
      ]
    },
    {
      "cell_type": "markdown",
      "source": [
        "## Plot"
      ],
      "metadata": {
        "id": "EwFelR0nQcQF"
      }
    },
    {
      "cell_type": "markdown",
      "source": [
        "### Split to different severity buckets"
      ],
      "metadata": {
        "id": "_XeLyCqUQcQF"
      }
    },
    {
      "cell_type": "code",
      "source": [
        "unknown_flood_status_points = []\n",
        "under_warning_points = []\n",
        "warning_points = []\n",
        "danger_points = []\n",
        "extreme_points = []\n",
        "\n",
        "for status in flood_statuses:\n",
        "  gaugeLocation = status['gaugeLocation']\n",
        "  match status['severity']:\n",
        "    case 'UNKNOWN':\n",
        "      unknown_flood_status_points.append(gaugeLocation)\n",
        "    case 'NO_FLOODING':\n",
        "      under_warning_points.append(gaugeLocation)\n",
        "    case 'ABOVE_NORMAL':\n",
        "      warning_points.append(gaugeLocation)\n",
        "    case 'SEVERE':\n",
        "      danger_points.append(gaugeLocation)\n",
        "    case 'EXTREME':\n",
        "      extreme_points.append(gaugeLocation)"
      ],
      "metadata": {
        "id": "i-8--fNqQcQF"
      },
      "execution_count": null,
      "outputs": []
    },
    {
      "cell_type": "markdown",
      "source": [
        "### Helper functions for plotting"
      ],
      "metadata": {
        "id": "O2T7F_B3QcQF"
      }
    },
    {
      "cell_type": "code",
      "source": [
        "world = gpd.read_file(\"https://naciscdn.org/naturalearth/110m/cultural/ne_110m_admin_0_countries.zip\")\n",
        "\n",
        "def get_country_multi_polygon(iso_a3_country_code: str):\n",
        "  country_record = world[world.ADM0_A3 == iso_a3_country_code]\n",
        "  if len(country_record) != 1:\n",
        "    raise ValueError(f'Country {iso_a3_country_code} is not found.')\n",
        "  country_geometry = country_record.iloc[0].geometry\n",
        "  if isinstance(country_geometry, geometry.MultiPolygon):\n",
        "    return country_geometry\n",
        "  return geometry.MultiPolygon([country_geometry])\n",
        "\n",
        "def get_country_contours(iso_a3_country_code: str):\n",
        "  country_geometry = get_country_multi_polygon(iso_a3_country_code)\n",
        "  return [list(p.exterior.coords) for p in country_geometry.geoms]\n",
        "\n",
        "def plot_points(ax, points, color):\n",
        "  for point in points:\n",
        "    lat = point['latitude']\n",
        "    lng = point['longitude']\n",
        "    ax.plot(lng, lat, 'o', color=color)\n",
        "\n",
        "def plot_country(ax, iso_a3_country_code):\n",
        "  country_multipolygon = get_country_multi_polygon(iso_a3_country_code)\n",
        "  for polygon in country_multipolygon.geoms:\n",
        "    all_lngs, all_lats = polygon.exterior.xy\n",
        "    ax.plot(all_lngs, all_lats, color='black')\n",
        "    ax.fill(all_lngs, all_lats, alpha=0.1, color='blue')"
      ],
      "metadata": {
        "id": "2KhYNjxrQcQF"
      },
      "execution_count": null,
      "outputs": []
    },
    {
      "cell_type": "markdown",
      "source": [
        "### Plot gauges"
      ],
      "metadata": {
        "id": "S63-119aQcQF"
      }
    },
    {
      "cell_type": "code",
      "source": [
        "fig, ax = plt.subplots()\n",
        "\n",
        "plot_points(ax, unknown_flood_status_points, 'gray')\n",
        "plot_points(ax, under_warning_points, 'green')\n",
        "plot_points(ax, warning_points, 'orange')\n",
        "plot_points(ax, danger_points, 'red')\n",
        "plot_points(ax, extreme_points, 'purple')\n",
        "plot_country(ax, iso_a3_country_code)"
      ],
      "metadata": {
        "outputId": "a7f340df-08cf-4166-d93f-423ddf8a0475",
        "colab": {
          "base_uri": "https://localhost:8080/",
          "height": 430
        },
        "id": "oef7K2kJQcQG"
      },
      "execution_count": null,
      "outputs": [
        {
          "output_type": "display_data",
          "data": {
            "text/plain": [
              "<Figure size 640x480 with 1 Axes>"
            ],
            "image/png": "[encoded data removed]"
          },
          "metadata": {}
        }
      ]
    },
    {
      "cell_type": "markdown",
      "source": [
        "## Fetch Polygons"
      ],
      "metadata": {
        "id": "kEPLfuSBQcQH"
      }
    },
    {
      "cell_type": "markdown",
      "source": [
        "### Search for a flood status with a risk map and another one with a notification map\n",
        "\n"
      ],
      "metadata": {
        "id": "9tkQfCFnQcQH"
      }
    },
    {
      "cell_type": "markdown",
      "source": [
        "Note that in the following sections we assume that at least one of the flood statuses has an inundation map. But this is not always the case.\n",
        "\n",
        "Also, some flood statuses may have a risk map but are lacking a notification map."
      ],
      "metadata": {
        "id": "K8yiJqG9QcQH"
      }
    },
    {
      "cell_type": "code",
      "source": [
        "inundation_map_set = None\n",
        "for status in flood_statuses:\n",
        "  if 'inundationMapSet' in status and status['inundationMapSet']:\n",
        "    inundation_map_set = status['inundationMapSet']\n",
        "    break\n",
        "if not inundation_map_set:\n",
        "  print('No inundation map found.')"
      ],
      "metadata": {
        "id": "QiCjPQyCQcQH",
        "colab": {
          "base_uri": "https://localhost:8080/"
        },
        "outputId": "5b480557-18a5-4aee-83f6-be292c1c1c34"
      },
      "execution_count": null,
      "outputs": [
        {
          "output_type": "stream",
          "name": "stdout",
          "text": [
            "No inundation map found.\n"
          ]
        }
      ]
    },
    {
      "cell_type": "code",
      "source": [
        "serialized_notification_polygon_id = None\n",
        "for status in flood_statuses:\n",
        "  if 'serializedNotificationPolygonId' in status and status['serializedNotificationPolygonId']:\n",
        "    serialized_notification_polygon_id = status['serializedNotificationPolygonId']\n",
        "    break\n",
        "if not serialized_notification_polygon_id:\n",
        "  print('No notification polygon found.')"
      ],
      "metadata": {
        "id": "OSCUtfCuZQal",
        "colab": {
          "base_uri": "https://localhost:8080/"
        },
        "outputId": "e47e8c79-107e-4435-a0d4-5e345375599d"
      },
      "execution_count": null,
      "outputs": [
        {
          "output_type": "stream",
          "name": "stdout",
          "text": [
            "No notification polygon found.\n"
          ]
        }
      ]
    },
    {
      "cell_type": "markdown",
      "source": [
        "### Fetch the KMLs for all the risk levels"
      ],
      "metadata": {
        "id": "WcH-aHD5QcQH"
      }
    },
    {
      "cell_type": "code",
      "source": [
        "level_to_polygon_id = {}\n",
        "if inundation_map_set:\n",
        "  for inundation_map in inundation_map_set['inundationMaps']:\n",
        "    level = inundation_map['level']\n",
        "    level_to_polygon_id[level] = inundation_map['serializedPolygonId']"
      ],
      "metadata": {
        "id": "LgZKtFLzQcQH"
      },
      "execution_count": null,
      "outputs": []
    },
    {
      "cell_type": "code",
      "source": [
        "level_to_kml = {}\n",
        "for level, serialized_polygon_id in level_to_polygon_id.items():\n",
        "  serialized_polygon_response = requests.get(\n",
        "      f'https://floodforecasting.googleapis.com/v1/serializedPolygons/{serialized_polygon_id}?key={KEY}').json()\n",
        "  if 'error' in serialized_polygon_response:\n",
        "    print(serialized_polygon_response)\n",
        "    break\n",
        "  level_to_kml[level] = serialized_polygon_response['kml']"
      ],
      "metadata": {
        "id": "9zZVOzybQcQH"
      },
      "execution_count": null,
      "outputs": []
    },
    {
      "cell_type": "code",
      "source": [
        "for level, kml in level_to_kml.items():\n",
        "  with open(f'level_{level}.kml', 'w') as f:\n",
        "    f.write(kml)"
      ],
      "metadata": {
        "id": "MzCctl6HQcQI"
      },
      "execution_count": null,
      "outputs": []
    },
    {
      "cell_type": "code",
      "source": [
        "gdf = gpd.read_file(f'level_MEDIUM.kml', driver='KML')\n",
        "\n",
        "gdf.plot()"
      ],
      "metadata": {
        "id": "dl2_V5GuSYJ5"
      },
      "execution_count": null,
      "outputs": []
    },
    {
      "cell_type": "markdown",
      "source": [
        "### You should be able to see and download the files from the colab Files explorer\n",
        "\n",
        "![7J38BudsxpFjF7Q.png](data:image/png;base64,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)"
      ],
      "metadata": {
        "id": "Okd-Y8LCQcQI"
      }
    },
    {
      "cell_type": "markdown",
      "source": [
        "### Fetch the notification polygon"
      ],
      "metadata": {
        "id": "Cgt_HV0kZppq"
      }
    },
    {
      "cell_type": "code",
      "source": [
        "if not serialized_notification_polygon_id:\n",
        "  print('No notification polygon found.')\n",
        "serialized_polygon_response = requests.get(\n",
        "    f'https://floodforecasting.googleapis.com/v1/serializedPolygons/{serialized_notification_polygon_id}?key={KEY}').json()\n",
        "if 'error' in serialized_polygon_response:\n",
        "  print(f'Error fetching notification polygon: {serialized_polygon_response[\"error\"]}')\n",
        "else:\n",
        "  notification_kml = serialized_polygon_response['kml']\n",
        "  with open(f'notification.kml', 'w') as f:\n",
        "    f.write(notification_kml)"
      ],
      "metadata": {
        "id": "T0eNMColZj-Y",
        "colab": {
          "base_uri": "https://localhost:8080/"
        },
        "outputId": "db36c19e-ed72-4f73-d3d9-d7f1998d7c04"
      },
      "execution_count": null,
      "outputs": [
        {
          "output_type": "stream",
          "name": "stdout",
          "text": [
            "No notification polygon found.\n",
            "Error fetching notification polygon: {'code': 404, 'message': 'Requested entity was not found.', 'status': 'NOT_FOUND'}\n"
          ]
        }
      ]
    },
    {
      "cell_type": "code",
      "source": [
        "gdf = gpd.read_file(f'level_MEDIUM.kml', driver='KML')\n",
        "\n",
        "gdf.plot()"
      ],
      "metadata": {
        "id": "uMI0vVC1SZ7Q"
      },
      "execution_count": null,
      "outputs": []
    },
    {
      "cell_type": "markdown",
      "source": [
        "You should be able to see and download the files from the colab Files tab (see image above)"
      ],
      "metadata": {
        "id": "MzWeFR26aX4W"
      }
    },
    {
      "cell_type": "markdown",
      "source": [
        "# Hydrology Model API\n",
        "\n",
        "This API provides access to our models' forecasts **starting from 2023-10-01**.\n",
        "\n",
        "For global river discharge estimates from earlier periods (1980-2023), please refer to the [Google Runoff Reanalysis & Reforecast dataset (GRRR)](https://colab.research.google.com/drive/1FnXXSEQqU1TJhMPiNeWUTr9LnbJwZzMm?usp=sharing#scrollTo=UTbokLLWp_9o).\n",
        "\n",
        "**To retrieve forecasts using this API:**\n",
        "\n",
        "1.  Find the required gauges/hybases.\n",
        "2.  Retrieve the models' output for a specific time period (on or after 2023-10-01).\n",
        "3.  Fetch the corresponding gauge model's metadata and return-period values."
      ],
      "metadata": {
        "id": "JwAZ6EkLM0Km"
      }
    },
    {
      "cell_type": "markdown",
      "source": [
        "## Search for Gauges or Hybases"
      ],
      "metadata": {
        "id": "BbyFM4eCP7xf"
      }
    },
    {
      "cell_type": "code",
      "source": [
        "request = {\n",
        "    'regionCode': region_code,\n",
        "    'pageSize': page_size,\n",
        "    'includeNonQualityVerified': False,  # Set to True to include low-confidance gauges.\n",
        "}\n",
        "gauges = []\n",
        "with tqdm() as pbar:  # Initializing progress bar\n",
        "  while True:\n",
        "    res = requests.post(\n",
        "        f'https://floodforecasting.googleapis.com/v1/gauges:searchGaugesByArea?key={KEY}',\n",
        "        json=request\n",
        "    ).json()\n",
        "    if 'error' in res:\n",
        "      print(res)\n",
        "      break\n",
        "    if 'gauges' in res:\n",
        "      gauges.extend(res['gauges'])\n",
        "\n",
        "    if 'nextPageToken' not in res or not res['nextPageToken']:\n",
        "      break\n",
        "    request['pageToken'] = res['nextPageToken']\n",
        "    pbar.update(1)  # Updating progress bar\n",
        "\n",
        "print(f'\\nFound {len(gauges)} gauges')\n",
        "if gauges:\n",
        "  print(f'Printing one gauge for example:')\n",
        "  pprint.pprint(gauges[0])\n",
        "\n"
      ],
      "metadata": {
        "colab": {
          "base_uri": "https://localhost:8080/"
        },
        "id": "0yG-Z255P__Q",
        "outputId": "c7bd8e5c-8544-41a5-842a-bb8bf34a3518"
      },
      "execution_count": null,
      "outputs": [
        {
          "output_type": "stream",
          "name": "stderr",
          "text": [
            "1it [00:01,  1.50s/it]"
          ]
        },
        {
          "output_type": "stream",
          "name": "stdout",
          "text": [
            "\n",
            "Found 1234 gauges\n",
            "Printing one gauge for example:\n",
            "{'gaugeId': 'hybas_7120014520',\n",
            " 'hasModel': True,\n",
            " 'location': {'latitude': 43.69791666666498, 'longitude': -124.1687500000009},\n",
            " 'qualityVerified': True,\n",
            " 'river': '',\n",
            " 'siteName': '',\n",
            " 'source': 'HYBAS'}\n"
          ]
        },
        {
          "output_type": "stream",
          "name": "stderr",
          "text": [
            "\n"
          ]
        }
      ]
    },
    {
      "cell_type": "markdown",
      "source": [
        "## Fetch Model Forecasts\n",
        "\n",
        "Here we fetch all the forecasts that were issued by the models for a given period of time. Note that every forecast has multiple lead times."
      ],
      "metadata": {
        "id": "oLtdSIUIgD0j"
      }
    },
    {
      "cell_type": "code",
      "source": [
        "GAUGE_BUCKET_SIZE = 500\n",
        "\n",
        "# Only fetch forecasts for gauges with models.\n",
        "gauge_ids = [g['gaugeId'] for g in gauges]\n",
        "\n",
        "# Fetch gauge forecasts in small buckets, due to the endpoint limit of maximum allowed gauges per request.\n",
        "gauge_id_buckets = [gauge_ids[i:i + GAUGE_BUCKET_SIZE] for i in range(0, len(gauge_ids), GAUGE_BUCKET_SIZE)]\n",
        "\n",
        "last_week = datetime.datetime.now() - datetime.timedelta(days=7)\n",
        "tommorow = datetime.datetime.now() + datetime.timedelta(days=1)\n",
        "\n",
        "forecasts = {}\n",
        "for gauge_bucket in tqdm(gauge_id_buckets):\n",
        "  res = requests.get(\n",
        "      f'https://floodforecasting.googleapis.com/v1/gauges:queryGaugeForecasts',\n",
        "      params={\n",
        "          'key': KEY,\n",
        "          'gaugeIds': gauge_bucket,\n",
        "          'issuedTimeStart': last_week.strftime('%Y-%m-%d'),\n",
        "          'issuedTimeEnd': tommorow.strftime('%Y-%m-%d'),\n",
        "      },\n",
        "  ).json()\n",
        "  if res and 'forecasts' in res:\n",
        "    forecasts.update(res['forecasts'])"
      ],
      "metadata": {
        "colab": {
          "base_uri": "https://localhost:8080/"
        },
        "id": "8m3tjnoikcst",
        "outputId": "5da0ba54-e958-4006-8bc9-2cf5b38c784d"
      },
      "execution_count": null,
      "outputs": [
        {
          "output_type": "stream",
          "name": "stderr",
          "text": [
            "100%|██████████| 3/3 [00:07<00:00,  2.54s/it]\n"
          ]
        }
      ]
    },
    {
      "cell_type": "code",
      "source": [
        "print(f'Found forecasts for {len(forecasts)} gauges.')\n",
        "gauge_id = gauges[0]['gaugeId'] # Pick random gauge to show forecasts for.\n",
        "print(f'Found {len(forecasts[gauge_id][\"forecasts\"])} forecasts that were issued for gauge {gauge_id} between {last_week.date()} and {tommorow.date()}')\n",
        "print(f'\\nPrinting the first forcast, note that the forecast has multiple lead times (called forecastRanges)')\n",
        "pprint.pprint(forecasts[gauge_id][\"forecasts\"][0])"
      ],
      "metadata": {
        "colab": {
          "base_uri": "https://localhost:8080/"
        },
        "id": "Sz_EukCyl74Z",
        "outputId": "3b9f14c4-28e1-419f-ba10-ecfbb002282d"
      },
      "execution_count": null,
      "outputs": [
        {
          "output_type": "stream",
          "name": "stdout",
          "text": [
            "Found forecasts for 1234 gauges.\n",
            "Found 8 forecasts that were issued for gauge hybas_7120014520 between 2025-10-15 and 2025-10-23\n",
            "\n",
            "Printing the first forcast, note that the forecast have multple lead times (called forecastRanges)\n",
            "{'forecastRanges': [{'forecastEndTime': '2025-10-14T00:00:00Z',\n",
            "                     'forecastStartTime': '2025-10-13T00:00:00Z',\n",
            "                     'value': 55.271854400634766},\n",
            "                    {'forecastEndTime': '2025-10-15T00:00:00Z',\n",
            "                     'forecastStartTime': '2025-10-14T00:00:00Z',\n",
            "                     'value': 64.73954010009766},\n",
            "                    {'forecastEndTime': '2025-10-16T00:00:00Z',\n",
            "                     'forecastStartTime': '2025-10-15T00:00:00Z',\n",
            "                     'value': 56.820316314697266},\n",
            "                    {'forecastEndTime': '2025-10-17T00:00:00Z',\n",
            "                     'forecastStartTime': '2025-10-16T00:00:00Z',\n",
            "                     'value': 50.244171142578125},\n",
            "                    {'forecastEndTime': '2025-10-18T00:00:00Z',\n",
            "                     'forecastStartTime': '2025-10-17T00:00:00Z',\n",
            "                     'value': 46.41433334350586},\n",
            "                    {'forecastEndTime': '2025-10-19T00:00:00Z',\n",
            "                     'forecastStartTime': '2025-10-18T00:00:00Z',\n",
            "                     'value': 44.29759216308594},\n",
            "                    {'forecastEndTime': '2025-10-20T00:00:00Z',\n",
            "                     'forecastStartTime': '2025-10-19T00:00:00Z',\n",
            "                     'value': 46.64929962158203},\n",
            "                    {'forecastEndTime': '2025-10-21T00:00:00Z',\n",
            "                     'forecastStartTime': '2025-10-20T00:00:00Z',\n",
            "                     'value': 54.939334869384766}],\n",
            " 'gaugeId': 'hybas_7120014520',\n",
            " 'issuedTime': '2025-10-15T13:50:27.812912Z'}\n"
          ]
        }
      ]
    },
    {
      "cell_type": "markdown",
      "source": [
        "## Fetch Gauge Model Metadata\n",
        "\n",
        "The model metadata contains some useful information. Most importantly, the thresholds for warning, danger and extreme danger.\n",
        "\n",
        "**Note that for models that predict water level meters, the thresholds are meters provided by local authorities. For models that predict cubic meters per second (discharge), the thresholds are 2, 5 and 20 years return period.**"
      ],
      "metadata": {
        "id": "VGDpS4TTH3FC"
      }
    },
    {
      "cell_type": "code",
      "source": [
        "GAUGE_MODEL_BUCKET_SIZE = 50\n",
        "\n",
        "# Only fetch models metadata for gauges with models.\n",
        "gauge_ids = [g['gaugeId'] for g in gauges]\n",
        "\n",
        "# Fetch gauge models in small buckets, due to the endpoint limit of maximum allowed models per request.\n",
        "gauge_id_buckets = [gauge_ids[i:i + GAUGE_MODEL_BUCKET_SIZE] for i in range(0, len(gauge_ids), GAUGE_MODEL_BUCKET_SIZE)]\n",
        "\n",
        "gauges_models = []\n",
        "for gauge_id_bucket in tqdm(gauge_id_buckets):\n",
        "  model_names = [f'names=gaugeModels/{g}' for g in gauge_id_bucket]\n",
        "  res = requests.get(f'https://floodforecasting.googleapis.com/v1/gaugeModels:batchGet?key={KEY}&{\"&\".join(model_names)}').json()\n",
        "  gauges_models.extend(res['gaugeModels'] if res and 'gaugeModels' in res else [])\n",
        "\n",
        "print(f'\\nFetched {len(gauges_models)} gauge models.')\n",
        "if gauges_models:\n",
        "  pprint.pprint(gauges_models[0])"
      ],
      "metadata": {
        "colab": {
          "base_uri": "https://localhost:8080/"
        },
        "id": "Yb9NV9B-I6ff",
        "outputId": "84d70478-ec7d-4f7d-c442-09cd64913fef"
      },
      "execution_count": null,
      "outputs": [
        {
          "output_type": "stream",
          "name": "stderr",
          "text": [
            "100%|██████████| 25/25 [00:11<00:00,  2.15it/s]"
          ]
        },
        {
          "output_type": "stream",
          "name": "stdout",
          "text": [
            "\n",
            "Fetched 1234 gauge models.\n",
            "{'gaugeId': 'hybas_7120334190',\n",
            " 'gaugeModelId': 'f59c92096f1e596b8760518421d6d9b82880c9b1d1d946f52cddab45702247ef',\n",
            " 'gaugeValueUnit': 'CUBIC_METERS_PER_SECOND',\n",
            " 'qualityVerified': True,\n",
            " 'thresholds': {'dangerLevel': 805.8919677734375,\n",
            "                'extremeDangerLevel': 1353.28076171875,\n",
            "                'warningLevel': 419.50506591796875}}\n"
          ]
        },
        {
          "output_type": "stream",
          "name": "stderr",
          "text": [
            "\n"
          ]
        }
      ]
    },
    {
      "cell_type": "markdown",
      "source": [
        "# Significant Events API\n",
        "\n",
        "Areas at high risk of major flood events. Uses gauge based discharge predictions, clustered for basins exceeding danger level thresholds. Incorporates the area of impact and the population within that area.\n",
        "\n",
        "Marked as pulsing red circles on [g.co/floodhub](https://g.co/floodhub)"
      ],
      "metadata": {
        "id": "4vokXVlK996u"
      }
    },
    {
      "cell_type": "code",
      "source": [
        "significant_events = []\n",
        "request = {}\n",
        "\n",
        "while True:\n",
        "  res = requests.post(\n",
        "      f'https://floodforecasting.googleapis.com/v1/significantEvents:search?key={KEY}',\n",
        "      json=request\n",
        "  )\n",
        "  significant_events_response = res.json()\n",
        "  if 'error' in significant_events_response:\n",
        "    print(significant_events_response)\n",
        "    break\n",
        "  significant_events.extend(significant_events_response.get('significantEvents', []))\n",
        "  nextPageToken = significant_events_response.get('nextPageToken')\n",
        "  if not nextPageToken:\n",
        "    break\n",
        "  request['pageToken'] = nextPageToken\n",
        "\n",
        "significant_events"
      ],
      "metadata": {
        "id": "2Zcmks9m9_63",
        "collapsed": true,
        "colab": {
          "base_uri": "https://localhost:8080/"
        },
        "outputId": "b0d14192-0ae7-43fa-cf3d-fd49f0eec92c"
      },
      "execution_count": null,
      "outputs": [
        {
          "output_type": "execute_result",
          "data": {
            "text/plain": [
              "[{'eventInterval': {'startTime': '2025-10-23T00:00:00Z',\n",
              "   'minimumEndTime': '2025-11-02T00:00:00Z'},\n",
              "  'affectedCountryCodes': ['HT', 'DO'],\n",
              "  'affectedPopulation': 4115374,\n",
              "  'areaKm2': 15143.323,\n",
              "  'gaugeIds': ['hybas_7120071270',\n",
              "   'hybas_7120072760',\n",
              "   'hybas_7120071110',\n",
              "   'hybas_7120071010',\n",
              "   'hybas_7120080490',\n",
              "   'hybas_7120070960',\n",
              "   'hybas_7120071060',\n",
              "   'hybas_7120071150',\n",
              "   'hybas_7120070830',\n",
              "   'hybas_7120071420',\n",
              "   'hybas_7120071370',\n",
              "   'hybas_7120071200',\n",
              "   'hybas_7120070910',\n",
              "   'hybas_7120072720',\n",
              "   'hybas_7120071560',\n",
              "   'hybas_7120070940',\n",
              "   'hybas_7120071350',\n",
              "   'hybas_7120071170',\n",
              "   'hybas_7120071080',\n",
              "   'hybas_7120081430',\n",
              "   'hybas_7120072740',\n",
              "   'hybas_7120072620',\n",
              "   'hybas_7120071450',\n",
              "   'hybas_7120070890',\n",
              "   'hybas_7120070870',\n",
              "   'hybas_7120071470',\n",
              "   'hybas_7120071300',\n",
              "   'hybas_7120072700',\n",
              "   'hybas_7120071040',\n",
              "   'hybas_7120072590',\n",
              "   'hybas_7120072570',\n",
              "   'hybas_7120071220',\n",
              "   'hybas_7120080250',\n",
              "   'hybas_7120842710',\n",
              "   'hybas_7120842550',\n",
              "   'hybas_7120851020',\n",
              "   'hybas_7120848180',\n",
              "   'hybas_7120848030',\n",
              "   'hybas_7120848610',\n",
              "   'hybas_7120839140',\n",
              "   'hybas_7120848040',\n",
              "   'hybas_7120842510',\n",
              "   'hybas_7120850580',\n",
              "   'hybas_7120846190',\n",
              "   'hybas_7120851070',\n",
              "   'hybas_7120838120',\n",
              "   'hybas_7120847630',\n",
              "   'hybas_7120848450',\n",
              "   'hybas_7120847900',\n",
              "   'hybas_7120844220',\n",
              "   'hybas_7120847570',\n",
              "   'hybas_7120845150',\n",
              "   'hybas_7120847290',\n",
              "   'hybas_7120847340',\n",
              "   'hybas_7120847910',\n",
              "   'hybas_7120847410',\n",
              "   'hybas_7120844110',\n",
              "   'hybas_7120847480',\n",
              "   'hybas_7120849000',\n",
              "   'hybas_7120841660',\n",
              "   'hybas_7120849820',\n",
              "   'hybas_7120842890',\n",
              "   'hybas_7120847080',\n",
              "   'hybas_7120844190',\n",
              "   'hybas_7120843030',\n",
              "   'hybas_7120850840',\n",
              "   'hybas_7120849620',\n",
              "   'hybas_7120843360',\n",
              "   'hybas_7120845800',\n",
              "   'hybas_7120849850',\n",
              "   'hybas_7120846570',\n",
              "   'hybas_7120838110',\n",
              "   'hybas_7120844710',\n",
              "   'hybas_7120845020',\n",
              "   'hybas_7120848070',\n",
              "   'hybas_7120846120',\n",
              "   'hybas_7120849840',\n",
              "   'hybas_7120846110',\n",
              "   'hybas_7121202530',\n",
              "   'hybas_7121206050',\n",
              "   'hybas_7121206310',\n",
              "   'hybas_7121204920',\n",
              "   'hybas_7121203010',\n",
              "   'hybas_7121203480',\n",
              "   'hybas_7121206100',\n",
              "   'hybas_7121206620',\n",
              "   'hybas_7121205140',\n",
              "   'hybas_7121202800',\n",
              "   'hybas_7121205180',\n",
              "   'hybas_7121204950',\n",
              "   'hybas_7121205780',\n",
              "   'hybas_7121205200',\n",
              "   'hybas_7121205130',\n",
              "   'hybas_7121202210',\n",
              "   'hybas_7121203270',\n",
              "   'hybas_7121202640',\n",
              "   'hybas_7121205960',\n",
              "   'hybas_7121204330',\n",
              "   'hybas_7121205930',\n",
              "   'hybas_7121207860',\n",
              "   'hybas_7121204040',\n",
              "   'hybas_7121204650',\n",
              "   'hybas_7121205020',\n",
              "   'hybas_7121204970',\n",
              "   'hybas_7121204430',\n",
              "   'hybas_7121203890',\n",
              "   'hybas_7121205710',\n",
              "   'hybas_7121208050',\n",
              "   'hybas_7121205150',\n",
              "   'hybas_7121203650',\n",
              "   'hybas_7121203370',\n",
              "   'hybas_7121205490',\n",
              "   'hybas_7121203290',\n",
              "   'hybas_7121200720',\n",
              "   'hybas_7121205310'],\n",
              "  'eventPolygonId': 'EiQKIGI4YzcyNWZlZTZhNDQ5ZjhhMzk2NmYzYmRlN2E1NzE3EAE'}]"
            ]
          },
          "metadata": {},
          "execution_count": 4
        }
      ]
    },
    {
      "cell_type": "markdown",
      "source": [
        "## Fetch event's polygon"
      ],
      "metadata": {
        "id": "noCgKJW2-CEw"
      }
    },
    {
      "cell_type": "code",
      "source": [
        "if not significant_events:\n",
        "  print('No significant events found')\n",
        "else:\n",
        "  event = significant_events[0]\n",
        "  serialized_polygon_response = requests.get(\n",
        "      f'https://floodforecasting.googleapis.com/v1/serializedPolygons/{event['eventPolygonId']}?key={KEY}').json()\n",
        "  if 'error' in serialized_polygon_response:\n",
        "    print(f'Error fetching polygon: {serialized_polygon_response[\"error\"]}')\n",
        "  else:\n",
        "    with open(f'significant_event_polygon.kml', 'w') as f:\n",
        "      f.write(serialized_polygon_response['kml'])"
      ],
      "metadata": {
        "id": "UWsjCAuU-Bbx"
      },
      "execution_count": null,
      "outputs": []
    },
    {
      "cell_type": "code",
      "source": [
        "gdf = gpd.read_file(f'significant_event_polygon.kml', driver='KML')\n",
        "\n",
        "gdf.plot()"
      ],
      "metadata": {
        "id": "nldz_nu4U3yg"
      },
      "execution_count": null,
      "outputs": []
    }
  ]
}